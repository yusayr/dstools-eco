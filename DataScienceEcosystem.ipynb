{
 "cells": [
  {
   "cell_type": "markdown",
   "id": "47fa6a4d",
   "metadata": {},
   "source": [
    "# Data Science Tools and Ecosystem"
   ]
  },
  {
   "cell_type": "markdown",
   "id": "469a006d",
   "metadata": {},
   "source": [
    "## In this notebook, Data Science Tools and Ecosystem are summarized.\n"
   ]
  },
  {
   "cell_type": "markdown",
   "id": "d4a25f60",
   "metadata": {},
   "source": [
    "### Some of the popular languages that Data Scientists use are:\n",
    "\n",
    "1] Python\n",
    "\n",
    "2] R\n",
    "\n",
    "3] SQL"
   ]
  },
  {
   "cell_type": "markdown",
   "id": "bf6327ff",
   "metadata": {},
   "source": [
    "### Some of the commonly used libraries used by Data Scientists include:\n",
    "\n",
    "1] Numpy\n",
    "2] Pandas\n",
    "3] Matplotlib\n",
    "4] Seaborn\n"
   ]
  },
  {
   "cell_type": "markdown",
   "id": "ed05206e",
   "metadata": {},
   "source": [
    "### Table for Data Science tools\n",
    "\n",
    "\n",
    "\n",
    "| Data Science Tools |\n",
    "| --- |\n",
    "| Jupyter Notebook |\n",
    "| Github |\n",
    "| Python |\n"
   ]
  },
  {
   "cell_type": "markdown",
   "id": "22aa807f",
   "metadata": {},
   "source": [
    "### Below are a few examples of evaluating arithmetic expressions in Python.\n",
    "\n",
    "\n"
   ]
  },
  {
   "cell_type": "code",
   "execution_count": 10,
   "id": "eca66749",
   "metadata": {},
   "outputs": [
    {
     "name": "stdout",
     "output_type": "stream",
     "text": [
      "Sum = 8 & Product = 15\n"
     ]
    }
   ],
   "source": [
    "a = 5\n",
    "b = 3\n",
    "result1 = a + b\n",
    "result2 = a * b\n",
    "print(\"Sum =\",result1,\"& Product =\",result2)\n",
    "\n"
   ]
  },
  {
   "cell_type": "code",
   "execution_count": 13,
   "id": "1d60e9d5",
   "metadata": {},
   "outputs": [
    {
     "name": "stdout",
     "output_type": "stream",
     "text": [
      "The number of hours is: 3.3333333333333335\n"
     ]
    }
   ],
   "source": [
    "#Create a code cell to convert minutes to hours\n",
    "\n",
    "minutes = 200\n",
    "hours = minutes / 60\n",
    "print(\"The number of hours is:\", hours)\n"
   ]
  },
  {
   "cell_type": "markdown",
   "id": "3139a817",
   "metadata": {},
   "source": [
    "## Insert a markdown cell to list Objectives\n",
    "\n",
    "## Objectives:\n",
    "\n",
    "- Exploratory Data Analysis\n",
    "- Data Science Programming Languages\n",
    "- Data Science tools\n",
    "- Data Science Python and R libraries\n"
   ]
  },
  {
   "cell_type": "markdown",
   "id": "9005bd32",
   "metadata": {},
   "source": [
    "## Author\n",
    "\n",
    "Muhammed Yusayr Khan"
   ]
  },
  {
   "cell_type": "code",
   "execution_count": null,
   "id": "62630c49",
   "metadata": {},
   "outputs": [],
   "source": []
  }
 ],
 "metadata": {
  "kernelspec": {
   "display_name": "Python 3 (ipykernel)",
   "language": "python",
   "name": "python3"
  },
  "language_info": {
   "codemirror_mode": {
    "name": "ipython",
    "version": 3
   },
   "file_extension": ".py",
   "mimetype": "text/x-python",
   "name": "python",
   "nbconvert_exporter": "python",
   "pygments_lexer": "ipython3",
   "version": "3.10.9"
  }
 },
 "nbformat": 4,
 "nbformat_minor": 5
}
